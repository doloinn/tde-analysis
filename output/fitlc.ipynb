{
 "cells": [
  {
   "cell_type": "code",
   "execution_count": 1,
   "metadata": {
    "collapsed": true
   },
   "outputs": [],
   "source": [
    "%matplotlib inline\n",
    "\n",
    "import pandas as pd\n",
    "import numpy as np\n",
    "import matplotlib.pyplot as plt\n",
    "import pickle\n",
    "\n",
    "from scipy.optimize import curve_fit\n",
    "from scipy.odr.odrpack import *\n",
    "import powerlaw as pl\n",
    "from astropy.modeling import models, fitting"
   ]
  },
  {
   "cell_type": "code",
   "execution_count": 2,
   "metadata": {
    "collapsed": true
   },
   "outputs": [],
   "source": [
    "cadence = [37, 26, 15]\n",
    "ZEROFLUX = 3.631e-11  # W m-2 nm-1\n",
    "\n",
    "def flux2mag(flux):\n",
    "    return -2.5 * np.log10(flux / ZEROFLUX)\n",
    "\n",
    "def mag2flux(mag):\n",
    "    return ZEROFLUX * 10**(-mag / 2.5)\n",
    "\n",
    "def add_mags(m1, m2):\n",
    "    return -2.5 * np.log10(10**(-m1/2.5) + 10**(-m2/2.5))\n",
    "\n",
    "def sub_mags(m1, m2):\n",
    "    return -2.5 * np.log10(10**(-m1/2.5) - 10**(-m2/2.5))\n",
    "\n",
    "def decayfun(t, a, b, c):\n",
    "    return a * (t + b)**(-5/3) + c"
   ]
  },
  {
   "cell_type": "code",
   "execution_count": 3,
   "metadata": {
    "collapsed": true
   },
   "outputs": [],
   "source": [
    "tde_data = pickle.load(open('tdes.pickle', 'rb'))\n",
    "tde_sim = pd.read_csv('tde_parsed.csv', index_col=0)\n",
    "\n",
    "tde_sim.replace(-1.0000000150474662e+30, np.nan, inplace=True)\n",
    "\n",
    "tde_gal_data = [{}, {}]\n",
    "for key, val in tde_data.items():\n",
    "    tde_gal_data[key % 2][key - (key % 2)] = val\n",
    "\n",
    "res_drop = ['multiple_matches', 'pix_sub-pix_pos', 'offset', 'ac_offset', 'al_offset', 'theta', 'ra', 'dec']\n",
    "gal_drop = ['ra', 'dec']\n",
    "\n",
    "simulated_data = {}\n",
    "for i, j in tde_sim.iloc[::2].iterrows():\n",
    "    temp_gal_dic = tde_gal_data[0][i]['data']\n",
    "    for key in gal_drop:\n",
    "        temp_gal_dic.pop(key)\n",
    "    temp_gal_dic_in = {'in %s' % key: temp_gal_dic[key] for key in temp_gal_dic.keys()}\n",
    "\n",
    "    temp_tde_dic = tde_gal_data[1][i]['data']\n",
    "    temp_tde_dic_in = {'in %s' % key: temp_tde_dic[key] for key in temp_tde_dic.keys()}\n",
    "\n",
    "    temp_res_dic = j.to_dict()\n",
    "    for key in res_drop:\n",
    "        temp_res_dic.pop(key)\n",
    "    temp_res_dic_out = {'out %s' % key: temp_res_dic[key] for key in temp_res_dic.keys()}\n",
    "\n",
    "    simulated_data[i] = {**temp_gal_dic_in, **temp_tde_dic_in, **temp_res_dic_out, 'tde source_g_mag': tde_sim.get_value(i + 1, 'source_g_mag')}\n",
    "\n",
    "tdedf = pd.DataFrame.from_dict(simulated_data, orient='index')\n",
    "tdedf.rename(columns={'out source_g_mag': 'galaxy source_g_mag'}, inplace=True)\n",
    "tdedf['total source_g_mag'] = tdedf.apply(lambda row: add_mags(row['tde source_g_mag'], row['galaxy source_g_mag']), axis=1)\n",
    "tdedf_detected = tdedf.dropna()"
   ]
  },
  {
   "cell_type": "code",
   "execution_count": 4,
   "metadata": {
    "collapsed": true
   },
   "outputs": [],
   "source": [
    "# Sampled light curve plots\n",
    "lc = []\n",
    "tdedf['light curve'] = 0\n",
    "\n",
    "for gm in tdedf['in galaxy mag'].unique():\n",
    "    for gr in tdedf['in galaxy radius'].unique():\n",
    "        for pm in tdedf['in peak mag'].unique():\n",
    "            df = tdedf.loc[tdedf['in galaxy mag'] == gm].loc[tdedf['in galaxy radius'] == gr].loc[tdedf['in peak mag'] == pm]\n",
    "            for cad in cadence:\n",
    "                for p in range(cad):\n",
    "                    lidx = [p + i * cad for i in range(len(df) // cad)]\n",
    "                    lc.append(df.iloc[lidx])                "
   ]
  },
  {
   "cell_type": "code",
   "execution_count": 5,
   "metadata": {
    "collapsed": false
   },
   "outputs": [],
   "source": [
    "# Fitting lc\n",
    "testlc = lc[100].dropna()\n",
    "\n",
    "testmags = testlc['out found_mag'].as_matrix()\n",
    "testfluxes = mag2flux(testmags)\n",
    "testtimes = testlc['in point time'].as_matrix()"
   ]
  },
  {
   "cell_type": "code",
   "execution_count": 18,
   "metadata": {
    "collapsed": false
   },
   "outputs": [
    {
     "name": "stderr",
     "output_type": "stream",
     "text": [
      "Calculating best minimal value for power law fit\n",
      "/Users/david/anaconda/lib/python3.5/site-packages/powerlaw.py:1138: RuntimeWarning: invalid value encountered in log\n",
      "  self.alpha = 1 + (self.n / sum(log(data / (self.xmin - .5))))\n",
      "/Users/david/anaconda/lib/python3.5/site-packages/powerlaw.py:692: RuntimeWarning: invalid value encountered in true_divide\n",
      "  (Theoretical_CDF * (1 - Theoretical_CDF))\n"
     ]
    },
    {
     "data": {
      "text/plain": [
       "1.0001063947148987"
      ]
     },
     "execution_count": 18,
     "metadata": {},
     "output_type": "execute_result"
    }
   ],
   "source": [
    "fit = pl.Fit(testfluxes, discrete=True)\n",
    "fit.alpha"
   ]
  }
 ],
 "metadata": {
  "kernelspec": {
   "display_name": "Python [default]",
   "language": "python",
   "name": "python3"
  },
  "language_info": {
   "codemirror_mode": {
    "name": "ipython",
    "version": 3
   },
   "file_extension": ".py",
   "mimetype": "text/x-python",
   "name": "python",
   "nbconvert_exporter": "python",
   "pygments_lexer": "ipython3",
   "version": "3.5.2"
  }
 },
 "nbformat": 4,
 "nbformat_minor": 2
}
